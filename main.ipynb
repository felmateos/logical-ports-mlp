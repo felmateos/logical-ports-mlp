{
 "cells": [
  {
   "cell_type": "code",
   "execution_count": 1,
   "metadata": {},
   "outputs": [
    {
     "data": {
      "text/html": [
       "<div>\n",
       "<style scoped>\n",
       "    .dataframe tbody tr th:only-of-type {\n",
       "        vertical-align: middle;\n",
       "    }\n",
       "\n",
       "    .dataframe tbody tr th {\n",
       "        vertical-align: top;\n",
       "    }\n",
       "\n",
       "    .dataframe thead th {\n",
       "        text-align: right;\n",
       "    }\n",
       "</style>\n",
       "<table border=\"1\" class=\"dataframe\">\n",
       "  <thead>\n",
       "    <tr style=\"text-align: right;\">\n",
       "      <th></th>\n",
       "      <th>x1</th>\n",
       "      <th>x2</th>\n",
       "      <th>y</th>\n",
       "    </tr>\n",
       "  </thead>\n",
       "  <tbody>\n",
       "    <tr>\n",
       "      <th>0</th>\n",
       "      <td>-1</td>\n",
       "      <td>-1</td>\n",
       "      <td>-1</td>\n",
       "    </tr>\n",
       "    <tr>\n",
       "      <th>1</th>\n",
       "      <td>-1</td>\n",
       "      <td>1</td>\n",
       "      <td>1</td>\n",
       "    </tr>\n",
       "    <tr>\n",
       "      <th>2</th>\n",
       "      <td>1</td>\n",
       "      <td>-1</td>\n",
       "      <td>1</td>\n",
       "    </tr>\n",
       "    <tr>\n",
       "      <th>3</th>\n",
       "      <td>1</td>\n",
       "      <td>1</td>\n",
       "      <td>1</td>\n",
       "    </tr>\n",
       "  </tbody>\n",
       "</table>\n",
       "</div>"
      ],
      "text/plain": [
       "   x1  x2  y\n",
       "0  -1  -1 -1\n",
       "1  -1   1  1\n",
       "2   1  -1  1\n",
       "3   1   1  1"
      ]
     },
     "execution_count": 1,
     "metadata": {},
     "output_type": "execute_result"
    }
   ],
   "source": [
    "import pandas as pd\n",
    "\n",
    "df = pd.read_csv('problemAND.csv')\n",
    "#df = pd.read_csv('problemOR.csv')\n",
    "\n",
    "df.head()"
   ]
  },
  {
   "cell_type": "code",
   "execution_count": 2,
   "metadata": {},
   "outputs": [],
   "source": [
    "import matplotlib.pyplot as plt\n",
    "\n",
    "def show_dataset(data, ax):\n",
    "    data[data.y==-1].plot(kind='scatter', ax=ax, x='x1', y='x2', color='blue')\n",
    "    data[data.y==1].plot(kind='scatter', ax=ax, x='x1', y='x2', color='red')\n",
    "    plt.grid()\n",
    "    plt.title('AND distribution')\n",
    "    ax.set_xlim(-1.5,1.5)\n",
    "    ax.set_ylim(-1.5,1.5)"
   ]
  },
  {
   "cell_type": "code",
   "execution_count": 3,
   "metadata": {},
   "outputs": [
    {
     "data": {
      "image/png": "[encoded data removed]",
      "text/plain": [
       "<Figure size 300x300 with 1 Axes>"
      ]
     },
     "metadata": {},
     "output_type": "display_data"
    }
   ],
   "source": [
    "fig = plt.figure(figsize=(3,3))\n",
    "show_dataset(df, fig.gca())"
   ]
  },
  {
   "cell_type": "code",
   "execution_count": 4,
   "metadata": {},
   "outputs": [],
   "source": [
    "from SLP import Neuron\n",
    "\n",
    "initial_weights = [-0.3, 0.4]\n",
    "intial_bias = 1\n",
    "learning_rate = 0.5\n",
    "\n",
    "SLP = Neuron(initial_weights, intial_bias, learning_rate)"
   ]
  },
  {
   "cell_type": "code",
   "execution_count": 5,
   "metadata": {},
   "outputs": [],
   "source": [
    "def train_SLP(SLP, data):\n",
    "    count = 0 \n",
    "    for _, line in data.iterrows():\n",
    "        inputs = line[0:2]\n",
    "        target = line[2]\n",
    "        count = count + SLP.learn(inputs, target)\n",
    "    return count"
   ]
  },
  {
   "cell_type": "code",
   "execution_count": 13,
   "metadata": {},
   "outputs": [
    {
     "name": "stdout",
     "output_type": "stream",
     "text": [
      "[0.7, 1.4] 2.0\n",
      "[0.7, 1.4] 2.0\n",
      "[0.7, 1.4] 2.0\n",
      "[0.7, 1.4] 2.0\n",
      "[0.7, 1.4] 2.0\n",
      "[0.7, 1.4] 2.0\n",
      "\n",
      "[-1 -1]\n",
      "-1\n"
     ]
    }
   ],
   "source": [
    "epochs = 6\n",
    "\n",
    "for _ in range(epochs):\n",
    "    train_SLP(SLP, df)\n",
    "    print(SLP.weights, SLP.bias)\n",
    "\n",
    "test_sample = df.sample()[[\"x1\",\"x2\"]].to_numpy()[0]\n",
    "print()\n",
    "print(test_sample)\n",
    "print(SLP.process(test_sample))"
   ]
  }
 ],
 "metadata": {
  "kernelspec": {
   "display_name": "Python 3",
   "language": "python",
   "name": "python3"
  },
  "language_info": {
   "codemirror_mode": {
    "name": "ipython",
    "version": 3
   },
   "file_extension": ".py",
   "mimetype": "text/x-python",
   "name": "python",
   "nbconvert_exporter": "python",
   "pygments_lexer": "ipython3",
   "version": "3.11.3"
  },
  "orig_nbformat": 4
 },
 "nbformat": 4,
 "nbformat_minor": 2
}
