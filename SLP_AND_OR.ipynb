{
 "cells": [
  {
   "attachments": {},
   "cell_type": "markdown",
   "metadata": {},
   "source": [
    "# Resolvendo o problema das portas lógicas AND (E) e OR (OU) usando uma SLP (Single Layer Perceptron)"
   ]
  },
  {
   "attachments": {},
   "cell_type": "markdown",
   "metadata": {},
   "source": [
    "### Primeiro importamos a base de dados desejada problemAND.csv ou problemOR.csv"
   ]
  },
  {
   "cell_type": "code",
   "execution_count": 70,
   "metadata": {},
   "outputs": [
    {
     "data": {
      "text/html": [
       "<div>\n",
       "<style scoped>\n",
       "    .dataframe tbody tr th:only-of-type {\n",
       "        vertical-align: middle;\n",
       "    }\n",
       "\n",
       "    .dataframe tbody tr th {\n",
       "        vertical-align: top;\n",
       "    }\n",
       "\n",
       "    .dataframe thead th {\n",
       "        text-align: right;\n",
       "    }\n",
       "</style>\n",
       "<table border=\"1\" class=\"dataframe\">\n",
       "  <thead>\n",
       "    <tr style=\"text-align: right;\">\n",
       "      <th></th>\n",
       "      <th>x1</th>\n",
       "      <th>x2</th>\n",
       "      <th>y</th>\n",
       "    </tr>\n",
       "  </thead>\n",
       "  <tbody>\n",
       "    <tr>\n",
       "      <th>0</th>\n",
       "      <td>-1</td>\n",
       "      <td>-1</td>\n",
       "      <td>-1</td>\n",
       "    </tr>\n",
       "    <tr>\n",
       "      <th>1</th>\n",
       "      <td>-1</td>\n",
       "      <td>1</td>\n",
       "      <td>1</td>\n",
       "    </tr>\n",
       "    <tr>\n",
       "      <th>2</th>\n",
       "      <td>1</td>\n",
       "      <td>-1</td>\n",
       "      <td>1</td>\n",
       "    </tr>\n",
       "    <tr>\n",
       "      <th>3</th>\n",
       "      <td>1</td>\n",
       "      <td>1</td>\n",
       "      <td>1</td>\n",
       "    </tr>\n",
       "  </tbody>\n",
       "</table>\n",
       "</div>"
      ],
      "text/plain": [
       "   x1  x2  y\n",
       "0  -1  -1 -1\n",
       "1  -1   1  1\n",
       "2   1  -1  1\n",
       "3   1   1  1"
      ]
     },
     "execution_count": 70,
     "metadata": {},
     "output_type": "execute_result"
    }
   ],
   "source": [
    "import pandas as pd\n",
    "\n",
    "problem = 'problemAND'\n",
    "problem = 'problemOR'\n",
    "\n",
    "df = pd.read_csv(problem + '.csv')\n",
    "\n",
    "df.head()"
   ]
  },
  {
   "attachments": {},
   "cell_type": "markdown",
   "metadata": {},
   "source": [
    "### Depois, plotamos a distribuição dos dados\n",
    "com azul = -1, e vermelho = 1"
   ]
  },
  {
   "cell_type": "code",
   "execution_count": 71,
   "metadata": {},
   "outputs": [],
   "source": [
    "import matplotlib.pyplot as plt\n",
    "\n",
    "def show_dataset(data, ax):\n",
    "    data[data.y==-1].plot(kind='scatter', ax=ax, x='x1', y='x2', color='blue')\n",
    "    data[data.y==1].plot(kind='scatter', ax=ax, x='x1', y='x2', color='red')\n",
    "    plt.grid()\n",
    "    plt.title(problem)\n",
    "    ax.set_xlim(-1.5,1.5)\n",
    "    ax.set_ylim(-1.5,1.5)"
   ]
  },
  {
   "cell_type": "code",
   "execution_count": 72,
   "metadata": {},
   "outputs": [
    {
     "data": {
      "image/png": "[encoded data removed]",
      "text/plain": [
       "<Figure size 300x300 with 1 Axes>"
      ]
     },
     "metadata": {},
     "output_type": "display_data"
    }
   ],
   "source": [
    "fig = plt.figure(figsize=(3,3))\n",
    "show_dataset(df, fig.gca())"
   ]
  },
  {
   "attachments": {},
   "cell_type": "markdown",
   "metadata": {},
   "source": [
    "### Instanciamos um Neurônio para compor a nossa SLP\n",
    "com qualquer peso e viés."
   ]
  },
  {
   "cell_type": "code",
   "execution_count": 73,
   "metadata": {},
   "outputs": [],
   "source": [
    "import random\n",
    "from SLP import Neuron\n",
    "\n",
    "a = -1\n",
    "b = 1\n",
    "\n",
    "initial_weights = [random.randint(a, b), random.randint(a, b)]\n",
    "intial_bias = random.randint(a, b)\n",
    "learning_rate = 0.5\n",
    "\n",
    "SLP = Neuron(initial_weights, intial_bias, learning_rate)"
   ]
  },
  {
   "attachments": {},
   "cell_type": "markdown",
   "metadata": {},
   "source": [
    "### definição do método para rodar o dataset inteiro para treinar a SLP"
   ]
  },
  {
   "cell_type": "code",
   "execution_count": 74,
   "metadata": {},
   "outputs": [],
   "source": [
    "def train_SLP(SLP, data):\n",
    "    total_error = 0 \n",
    "    for _, line in data.iterrows():\n",
    "        inputs = line[0:2]\n",
    "        target = line[2]\n",
    "        total_error = total_error + SLP.learn(inputs, target)\n",
    "    return total_error"
   ]
  },
  {
   "attachments": {},
   "cell_type": "markdown",
   "metadata": {},
   "source": [
    "### definição da quantidade de épocas e execução do treinamento e um teste (com um dado extraído do dataset original)"
   ]
  },
  {
   "cell_type": "code",
   "execution_count": 75,
   "metadata": {},
   "outputs": [
    {
     "name": "stdout",
     "output_type": "stream",
     "text": [
      "\n",
      "[-1 -1]\n",
      "-1\n"
     ]
    }
   ],
   "source": [
    "import numpy as np\n",
    "\n",
    "epochs = 6\n",
    "pre_error = -1\n",
    "error = -1\n",
    "\n",
    "for _ in range(epochs):\n",
    "    error = train_SLP(SLP, df)\n",
    "    if (np.abs(pre_error-error) < 0.1):\n",
    "        break\n",
    "    pre_error = error\n",
    "\n",
    "\n",
    "test_sample = df.sample()[[\"x1\",\"x2\"]].to_numpy()[0]\n",
    "print()\n",
    "print(test_sample)\n",
    "print(SLP.process(test_sample))"
   ]
  },
  {
   "cell_type": "code",
   "execution_count": 76,
   "metadata": {},
   "outputs": [],
   "source": [
    "def limit(SLP, inputs):\n",
    "    weights_0 = SLP.weights[0]\n",
    "    weights_1 = SLP.weights[1]\n",
    "    bias = SLP.bias\n",
    "    threshold = -weights_0 * inputs - bias\n",
    "    threshold = threshold / weights_1\n",
    "    return threshold\n",
    "\n",
    "\n",
    "def show_threshold(SLP, ax):\n",
    "    xlim = plt.gca().get_xlim()\n",
    "    \n",
    "    x2 = [limit(SLP, x1) for x1 in xlim]\n",
    "    \n",
    "    ax.plot(xlim, x2, color=\"yellow\")\n",
    "    ax.set_xlim(-1.5,1.5)\n",
    "    ax.set_ylim(-1.5,1.5)\n",
    "\n",
    "def show_dataset_threshold(SLP, data, ax):\n",
    "    data[data.y==-1].plot(kind='scatter', ax=ax, x='x1', y='x2', color='blue')\n",
    "    data[data.y==1].plot(kind='scatter', ax=ax, x='x1', y='x2', color='red')\n",
    "    plt.grid()\n",
    "    plt.title(problem)\n",
    "    ax.set_xlim(-1.5,1.5)\n",
    "    ax.set_ylim(-1.5,1.5)\n",
    "    show_threshold(SLP, ax)"
   ]
  },
  {
   "cell_type": "code",
   "execution_count": 77,
   "metadata": {},
   "outputs": [
    {
     "data": {
      "image/png": "[encoded data removed]",
      "text/plain": [
       "<Figure size 300x300 with 1 Axes>"
      ]
     },
     "metadata": {},
     "output_type": "display_data"
    }
   ],
   "source": [
    "fig = plt.figure(figsize=(3,3))\n",
    "show_dataset_threshold(SLP, df, fig.gca())"
   ]
  }
 ],
 "metadata": {
  "kernelspec": {
   "display_name": "Python 3",
   "language": "python",
   "name": "python3"
  },
  "language_info": {
   "codemirror_mode": {
    "name": "ipython",
    "version": 3
   },
   "file_extension": ".py",
   "mimetype": "text/x-python",
   "name": "python",
   "nbconvert_exporter": "python",
   "pygments_lexer": "ipython3",
   "version": "3.11.3"
  },
  "orig_nbformat": 4
 },
 "nbformat": 4,
 "nbformat_minor": 2
}
