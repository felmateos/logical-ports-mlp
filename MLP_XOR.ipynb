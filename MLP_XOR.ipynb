{
 "cells": [
  {
   "cell_type": "code",
   "execution_count": 1,
   "metadata": {},
   "outputs": [],
   "source": [
    "import pandas as pd\n",
    "import matplotlib.pyplot as plt\n",
    "import numpy as np"
   ]
  },
  {
   "cell_type": "code",
   "execution_count": 2,
   "metadata": {},
   "outputs": [
    {
     "name": "stdout",
     "output_type": "stream",
     "text": [
      "[array([1, 2]), array([6, 8])]\n",
      "[ 7. 10.]\n",
      "[0.7 1. ]\n",
      "[0.29999999999999993, 0.0]\n"
     ]
    }
   ],
   "source": [
    "# square residuals\n",
    "SR = np.array([1, 2])\n",
    "\n",
    "# hidden output\n",
    "Z = np.array([[1, 2],[3, 4]])\n",
    "\n",
    "# square residuals * hidden output\n",
    "SRZ = [np.dot(sr, z) for (sr, z) in zip(SR,Z)]\n",
    "print(SRZ)\n",
    "\n",
    "SSRZ = np.zeros(len(SR))\n",
    "\n",
    "# sum of all square residuals * all hidden output\n",
    "for srz in SRZ:\n",
    "    SSRZ = np.add(SSRZ, srz)\n",
    "\n",
    "print(SSRZ)\n",
    "\n",
    "# step size = SSRZ * learning rate\n",
    "stepSize = np.dot(SSRZ, .1)\n",
    "\n",
    "print(stepSize)\n",
    "\n",
    "# old weights\n",
    "W = np.ones(len(SR))\n",
    "\n",
    "# new weights = old weights - step size\n",
    "W = [w - ss for (w, ss) in zip(W, stepSize)]\n",
    "\n",
    "print(W)\n",
    "\n"
   ]
  },
  {
   "cell_type": "code",
   "execution_count": 3,
   "metadata": {},
   "outputs": [
    {
     "name": "stdout",
     "output_type": "stream",
     "text": [
      "[1 0 0]\n",
      "[2 0 0]\n",
      "[2 8]\n",
      "[ 2 16]\n"
     ]
    }
   ],
   "source": [
    "WEIGHT_output = [[1,2,3],\n",
    "                 [4,5,6]]\n",
    "ERROR_output = np.array([1,0,0]) - np.array([0,0,0])\n",
    "print(ERROR_output)\n",
    "DELTA_output = ERROR_output * [2,1,0]\n",
    "print(DELTA_output)\n",
    "\n",
    "delta_hidden = np.matmul(WEIGHT_output, DELTA_output)\n",
    "print(delta_hidden)\n",
    "\n",
    "delta_hidden = delta_hidden * [1,2]\n",
    "print(delta_hidden)"
   ]
  },
  {
   "cell_type": "code",
   "execution_count": 4,
   "metadata": {},
   "outputs": [
    {
     "data": {
      "text/html": [
       "<div>\n",
       "<style scoped>\n",
       "    .dataframe tbody tr th:only-of-type {\n",
       "        vertical-align: middle;\n",
       "    }\n",
       "\n",
       "    .dataframe tbody tr th {\n",
       "        vertical-align: top;\n",
       "    }\n",
       "\n",
       "    .dataframe thead th {\n",
       "        text-align: right;\n",
       "    }\n",
       "</style>\n",
       "<table border=\"1\" class=\"dataframe\">\n",
       "  <thead>\n",
       "    <tr style=\"text-align: right;\">\n",
       "      <th></th>\n",
       "      <th>x1</th>\n",
       "      <th>x2</th>\n",
       "      <th>y</th>\n",
       "    </tr>\n",
       "  </thead>\n",
       "  <tbody>\n",
       "    <tr>\n",
       "      <th>0</th>\n",
       "      <td>-1</td>\n",
       "      <td>-1</td>\n",
       "      <td>-1</td>\n",
       "    </tr>\n",
       "    <tr>\n",
       "      <th>1</th>\n",
       "      <td>-1</td>\n",
       "      <td>1</td>\n",
       "      <td>1</td>\n",
       "    </tr>\n",
       "    <tr>\n",
       "      <th>2</th>\n",
       "      <td>1</td>\n",
       "      <td>-1</td>\n",
       "      <td>1</td>\n",
       "    </tr>\n",
       "    <tr>\n",
       "      <th>3</th>\n",
       "      <td>1</td>\n",
       "      <td>1</td>\n",
       "      <td>-1</td>\n",
       "    </tr>\n",
       "  </tbody>\n",
       "</table>\n",
       "</div>"
      ],
      "text/plain": [
       "   x1  x2  y\n",
       "0  -1  -1 -1\n",
       "1  -1   1  1\n",
       "2   1  -1  1\n",
       "3   1   1 -1"
      ]
     },
     "execution_count": 4,
     "metadata": {},
     "output_type": "execute_result"
    }
   ],
   "source": [
    "problem = \"problemXOR\"\n",
    "df = pd.read_csv(problem+\".csv\")\n",
    "df.head()"
   ]
  },
  {
   "cell_type": "code",
   "execution_count": 5,
   "metadata": {},
   "outputs": [
    {
     "name": "stdout",
     "output_type": "stream",
     "text": [
      "0 1\n",
      "1 2\n",
      "2 3\n",
      "3 4\n"
     ]
    }
   ],
   "source": [
    "s = pd.Series([1,2,3,4])\n",
    "\n",
    "for i,v in enumerate(s):\n",
    "    print(i,v)"
   ]
  },
  {
   "cell_type": "code",
   "execution_count": 6,
   "metadata": {},
   "outputs": [
    {
     "name": "stdout",
     "output_type": "stream",
     "text": [
      "[-1, -1]\n",
      "[-1, 1]\n",
      "[1, -1]\n",
      "[1, 1]\n"
     ]
    }
   ],
   "source": [
    "train = df[['x1','x2']]\n",
    "\n",
    "for index, row in train.iterrows():\n",
    "    ROW = [row[c] for c in train.columns]\n",
    "    print(ROW)\n"
   ]
  },
  {
   "cell_type": "code",
   "execution_count": 7,
   "metadata": {},
   "outputs": [
    {
     "name": "stdout",
     "output_type": "stream",
     "text": [
      "0    0\n",
      "1    0\n",
      "dtype: int64\n"
     ]
    }
   ],
   "source": [
    "Error = {'SR' : (lambda x,y: np.subtract(x,y))}\n",
    "\n",
    "error_func = Error['SR']\n",
    "\n",
    "t = pd.Series([1,2])\n",
    "u = pd.Series([1,2])\n",
    "\n",
    "print(error_func(t,u))"
   ]
  },
  {
   "cell_type": "code",
   "execution_count": 20,
   "metadata": {},
   "outputs": [
    {
     "name": "stdout",
     "output_type": "stream",
     "text": [
      "[ 5 11]\n",
      "[ 5 11]\n",
      "[ 5 11]\n"
     ]
    }
   ],
   "source": [
    "#eh soh fazer a transpostakkkkk\n",
    "\n",
    "a = np.array([[1,2],\n",
    "              [3,4]])\n",
    "b = np.array([1,2])\n",
    "\n",
    "a2 = np.array([[1,3],\n",
    "               [2,4]])\n",
    "b2 = np.array([1,2])\n",
    "\n",
    "d = []\n",
    "for v in a:\n",
    "    d.append(np.sum(v*b))\n",
    "\n",
    "d = np.array(d)\n",
    "\n",
    "d2 = []\n",
    "for v in a2.T:\n",
    "    d2.append(np.sum(v*b2))\n",
    "\n",
    "d2 = np.array(d2)\n",
    "\n",
    "c = np.matmul(a,b)\n",
    "print(c)\n",
    "\n",
    "print(d)\n",
    "print(d2)"
   ]
  },
  {
   "cell_type": "code",
   "execution_count": null,
   "metadata": {},
   "outputs": [],
   "source": [
    "def plot_dataset(data, ax):\n",
    "    data[data.y == 1].plot(kind='scatter', ax=ax, x='x1', y='x2', c='red')\n",
    "    data[data.y == -1].plot(kind='scatter', ax=ax, x='x1', y='x2', c='blue')\n",
    "    plt.grid()\n",
    "    plt.title(problem)\n",
    "    ax.set_xlim(-1.5,1.5)\n",
    "    ax.set_ylim(-1.5,1.5)"
   ]
  },
  {
   "cell_type": "code",
   "execution_count": null,
   "metadata": {},
   "outputs": [
    {
     "data": {
      "image/png": "[encoded data removed]",
      "text/plain": [
       "<Figure size 300x300 with 1 Axes>"
      ]
     },
     "metadata": {},
     "output_type": "display_data"
    }
   ],
   "source": [
    "fig = plt.figure(figsize=(3,3))\n",
    "plot_dataset(df, fig.gca())"
   ]
  },
  {
   "cell_type": "code",
   "execution_count": null,
   "metadata": {},
   "outputs": [
    {
     "name": "stdout",
     "output_type": "stream",
     "text": [
      "[-1, -1]\n"
     ]
    }
   ],
   "source": [
    "x = df.sample(1)[['x1','x2']].squeeze().tolist()\n",
    "print(x)\n",
    "\n"
   ]
  },
  {
   "cell_type": "code",
   "execution_count": null,
   "metadata": {},
   "outputs": [
    {
     "name": "stdout",
     "output_type": "stream",
     "text": [
      "[[0.38125761870284824, -0.9764321206243374], [0.9383508825764646, -0.6921704506816251]]\n",
      "[[0.9258666229528023, 0.7294863743349242]]\n"
     ]
    },
    {
     "ename": "NameError",
     "evalue": "name 'Z' is not defined",
     "output_type": "error",
     "traceback": [
      "\u001b[1;31m---------------------------------------------------------------------------\u001b[0m",
      "\u001b[1;31mNameError\u001b[0m                                 Traceback (most recent call last)",
      "Cell \u001b[1;32mIn[53], line 7\u001b[0m\n\u001b[0;32m      4\u001b[0m \u001b[39mprint\u001b[39m(MLP\u001b[39m.\u001b[39mweightsHidden)\n\u001b[0;32m      5\u001b[0m \u001b[39mprint\u001b[39m(MLP\u001b[39m.\u001b[39mweightsOutput)\n\u001b[1;32m----> 7\u001b[0m MLP\u001b[39m.\u001b[39;49mpredict(x)\n",
      "File \u001b[1;32mc:\\Users\\felma\\OneDrive\\Área de Trabalho\\disciplinas\\IA - Sara\\logical-ports-mlp\\MLP.py:63\u001b[0m, in \u001b[0;36mMultiLayerPerceptron.predict\u001b[1;34m(self, X)\u001b[0m\n\u001b[0;32m     61\u001b[0m \u001b[39mdef\u001b[39;00m \u001b[39mpredict\u001b[39m(\u001b[39mself\u001b[39m, X):\n\u001b[0;32m     62\u001b[0m     \u001b[39mself\u001b[39m\u001b[39m.\u001b[39mZ \u001b[39m=\u001b[39m \u001b[39mself\u001b[39m\u001b[39m.\u001b[39mfeed_forward(\u001b[39mself\u001b[39m\u001b[39m.\u001b[39mhiddenLayer, X, \u001b[39mself\u001b[39m\u001b[39m.\u001b[39mweightsHidden, \u001b[39mself\u001b[39m\u001b[39m.\u001b[39mbiasHidden)\n\u001b[1;32m---> 63\u001b[0m     y \u001b[39m=\u001b[39m \u001b[39mself\u001b[39m\u001b[39m.\u001b[39mfeed_forward(\u001b[39mself\u001b[39m\u001b[39m.\u001b[39moutputLayer, Z, \u001b[39mself\u001b[39m\u001b[39m.\u001b[39mweightsOutput, \u001b[39mself\u001b[39m\u001b[39m.\u001b[39mbiasOutput)[\u001b[39m0\u001b[39m]\n\u001b[0;32m     65\u001b[0m     \u001b[39mif\u001b[39;00m y \u001b[39m>\u001b[39m\u001b[39m=\u001b[39m \u001b[39m0\u001b[39m:\n\u001b[0;32m     66\u001b[0m         \u001b[39mreturn\u001b[39;00m \u001b[39m1\u001b[39m\n",
      "\u001b[1;31mNameError\u001b[0m: name 'Z' is not defined"
     ]
    }
   ],
   "source": [
    "from MLP import MultiLayerPerceptron\n",
    "\n",
    "MLP = MultiLayerPerceptron()\n",
    "print(MLP.weightsHidden)\n",
    "print(MLP.weightsOutput)\n",
    "\n",
    "MLP.predict(x)"
   ]
  }
 ],
 "metadata": {
  "kernelspec": {
   "display_name": "Python 3",
   "language": "python",
   "name": "python3"
  },
  "language_info": {
   "codemirror_mode": {
    "name": "ipython",
    "version": 3
   },
   "file_extension": ".py",
   "mimetype": "text/x-python",
   "name": "python",
   "nbconvert_exporter": "python",
   "pygments_lexer": "ipython3",
   "version": "3.11.4"
  },
  "orig_nbformat": 4
 },
 "nbformat": 4,
 "nbformat_minor": 2
}
